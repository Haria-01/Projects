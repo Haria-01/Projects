{
 "cells": [
  {
   "cell_type": "markdown",
   "id": "e763b5a1",
   "metadata": {},
   "source": [
    "### Importing the major libraries"
   ]
  },
  {
   "cell_type": "code",
   "execution_count": 1,
   "id": "e688bdf6",
   "metadata": {},
   "outputs": [],
   "source": [
    "import pandas as pd\n",
    "import numpy as np\n",
    "from matplotlib import pyplot as plt\n",
    "%matplotlib inline\n",
    "import matplotlib\n",
    "matplotlib.rcParams['figure.figsize']=(20,10)\n",
    "import seaborn as sns"
   ]
  },
  {
   "cell_type": "markdown",
   "id": "c1daaf6c",
   "metadata": {},
   "source": [
    "### Importing the data"
   ]
  },
  {
   "cell_type": "code",
   "execution_count": 2,
   "id": "bd309f64",
   "metadata": {},
   "outputs": [
    {
     "name": "stdout",
     "output_type": "stream",
     "text": [
      "(414, 8)\n"
     ]
    },
    {
     "data": {
      "text/html": [
       "<div>\n",
       "<style scoped>\n",
       "    .dataframe tbody tr th:only-of-type {\n",
       "        vertical-align: middle;\n",
       "    }\n",
       "\n",
       "    .dataframe tbody tr th {\n",
       "        vertical-align: top;\n",
       "    }\n",
       "\n",
       "    .dataframe thead th {\n",
       "        text-align: right;\n",
       "    }\n",
       "</style>\n",
       "<table border=\"1\" class=\"dataframe\">\n",
       "  <thead>\n",
       "    <tr style=\"text-align: right;\">\n",
       "      <th></th>\n",
       "      <th>House Age</th>\n",
       "      <th>Distance from nearest Metro station (km)</th>\n",
       "      <th>Number of convenience stores</th>\n",
       "      <th>latitude</th>\n",
       "      <th>longitude</th>\n",
       "      <th>Number of bedrooms</th>\n",
       "      <th>House size (sqft)</th>\n",
       "      <th>House price of unit area</th>\n",
       "    </tr>\n",
       "  </thead>\n",
       "  <tbody>\n",
       "    <tr>\n",
       "      <th>0</th>\n",
       "      <td>32.0</td>\n",
       "      <td>84.87882</td>\n",
       "      <td>10</td>\n",
       "      <td>24.98298</td>\n",
       "      <td>121.54024</td>\n",
       "      <td>1</td>\n",
       "      <td>575</td>\n",
       "      <td>37.9</td>\n",
       "    </tr>\n",
       "    <tr>\n",
       "      <th>1</th>\n",
       "      <td>19.5</td>\n",
       "      <td>306.59470</td>\n",
       "      <td>9</td>\n",
       "      <td>24.98034</td>\n",
       "      <td>121.53951</td>\n",
       "      <td>2</td>\n",
       "      <td>1240</td>\n",
       "      <td>42.2</td>\n",
       "    </tr>\n",
       "    <tr>\n",
       "      <th>2</th>\n",
       "      <td>13.3</td>\n",
       "      <td>561.98450</td>\n",
       "      <td>5</td>\n",
       "      <td>24.98746</td>\n",
       "      <td>121.54391</td>\n",
       "      <td>3</td>\n",
       "      <td>1060</td>\n",
       "      <td>47.3</td>\n",
       "    </tr>\n",
       "    <tr>\n",
       "      <th>3</th>\n",
       "      <td>13.3</td>\n",
       "      <td>561.98450</td>\n",
       "      <td>5</td>\n",
       "      <td>24.98746</td>\n",
       "      <td>121.54391</td>\n",
       "      <td>2</td>\n",
       "      <td>875</td>\n",
       "      <td>54.8</td>\n",
       "    </tr>\n",
       "    <tr>\n",
       "      <th>4</th>\n",
       "      <td>5.0</td>\n",
       "      <td>390.56840</td>\n",
       "      <td>5</td>\n",
       "      <td>24.97937</td>\n",
       "      <td>121.54245</td>\n",
       "      <td>1</td>\n",
       "      <td>491</td>\n",
       "      <td>43.1</td>\n",
       "    </tr>\n",
       "  </tbody>\n",
       "</table>\n",
       "</div>"
      ],
      "text/plain": [
       "   House Age  Distance from nearest Metro station (km)  \\\n",
       "0       32.0                                  84.87882   \n",
       "1       19.5                                 306.59470   \n",
       "2       13.3                                 561.98450   \n",
       "3       13.3                                 561.98450   \n",
       "4        5.0                                 390.56840   \n",
       "\n",
       "   Number of convenience stores  latitude  longitude  Number of bedrooms  \\\n",
       "0                            10  24.98298  121.54024                   1   \n",
       "1                             9  24.98034  121.53951                   2   \n",
       "2                             5  24.98746  121.54391                   3   \n",
       "3                             5  24.98746  121.54391                   2   \n",
       "4                             5  24.97937  121.54245                   1   \n",
       "\n",
       "   House size (sqft)  House price of unit area  \n",
       "0                575                      37.9  \n",
       "1               1240                      42.2  \n",
       "2               1060                      47.3  \n",
       "3                875                      54.8  \n",
       "4                491                      43.1  "
      ]
     },
     "execution_count": 2,
     "metadata": {},
     "output_type": "execute_result"
    }
   ],
   "source": [
    "df1=pd.read_excel(\"DS - Assignment Part 1 data set.xlsx\" )\n",
    "df1=df1.drop(columns=['Transaction date'],axis=1)\n",
    "print(df1.shape)\n",
    "df1.head()"
   ]
  },
  {
   "cell_type": "markdown",
   "id": "7004212f",
   "metadata": {},
   "source": [
    "Transaction date column has been removed since it does not provide any useful information regarding the price of the house."
   ]
  },
  {
   "cell_type": "code",
   "execution_count": 3,
   "id": "b935bdcc",
   "metadata": {},
   "outputs": [
    {
     "data": {
      "text/plain": [
       "Index(['House Age', 'Distance from nearest Metro station (km)',\n",
       "       'Number of convenience stores', 'latitude', 'longitude',\n",
       "       'Number of bedrooms', 'House size (sqft)', 'House price of unit area'],\n",
       "      dtype='object')"
      ]
     },
     "execution_count": 3,
     "metadata": {},
     "output_type": "execute_result"
    }
   ],
   "source": [
    "df1.columns"
   ]
  },
  {
   "cell_type": "markdown",
   "id": "aabe20c6",
   "metadata": {},
   "source": [
    "### Checking for null values"
   ]
  },
  {
   "cell_type": "code",
   "execution_count": 4,
   "id": "3900ff54",
   "metadata": {},
   "outputs": [
    {
     "data": {
      "text/plain": [
       "House Age                                   0\n",
       "Distance from nearest Metro station (km)    0\n",
       "Number of convenience stores                0\n",
       "latitude                                    0\n",
       "longitude                                   0\n",
       "Number of bedrooms                          0\n",
       "House size (sqft)                           0\n",
       "House price of unit area                    0\n",
       "dtype: int64"
      ]
     },
     "execution_count": 4,
     "metadata": {},
     "output_type": "execute_result"
    }
   ],
   "source": [
    "df1.isnull().sum()"
   ]
  },
  {
   "cell_type": "code",
   "execution_count": 5,
   "id": "d043b5a6",
   "metadata": {},
   "outputs": [
    {
     "data": {
      "text/html": [
       "<div>\n",
       "<style scoped>\n",
       "    .dataframe tbody tr th:only-of-type {\n",
       "        vertical-align: middle;\n",
       "    }\n",
       "\n",
       "    .dataframe tbody tr th {\n",
       "        vertical-align: top;\n",
       "    }\n",
       "\n",
       "    .dataframe thead th {\n",
       "        text-align: right;\n",
       "    }\n",
       "</style>\n",
       "<table border=\"1\" class=\"dataframe\">\n",
       "  <thead>\n",
       "    <tr style=\"text-align: right;\">\n",
       "      <th></th>\n",
       "      <th>House Age</th>\n",
       "      <th>Distance from nearest Metro station (km)</th>\n",
       "      <th>Number of convenience stores</th>\n",
       "      <th>latitude</th>\n",
       "      <th>longitude</th>\n",
       "      <th>Number of bedrooms</th>\n",
       "      <th>House size (sqft)</th>\n",
       "      <th>House price of unit area</th>\n",
       "    </tr>\n",
       "  </thead>\n",
       "  <tbody>\n",
       "    <tr>\n",
       "      <th>count</th>\n",
       "      <td>414.000000</td>\n",
       "      <td>414.000000</td>\n",
       "      <td>414.000000</td>\n",
       "      <td>414.000000</td>\n",
       "      <td>414.000000</td>\n",
       "      <td>414.000000</td>\n",
       "      <td>414.000000</td>\n",
       "      <td>414.000000</td>\n",
       "    </tr>\n",
       "    <tr>\n",
       "      <th>mean</th>\n",
       "      <td>17.712560</td>\n",
       "      <td>1083.885689</td>\n",
       "      <td>4.094203</td>\n",
       "      <td>24.969030</td>\n",
       "      <td>121.533361</td>\n",
       "      <td>1.987923</td>\n",
       "      <td>931.475845</td>\n",
       "      <td>37.980193</td>\n",
       "    </tr>\n",
       "    <tr>\n",
       "      <th>std</th>\n",
       "      <td>11.392485</td>\n",
       "      <td>1262.109595</td>\n",
       "      <td>2.945562</td>\n",
       "      <td>0.012410</td>\n",
       "      <td>0.015347</td>\n",
       "      <td>0.818875</td>\n",
       "      <td>348.910269</td>\n",
       "      <td>13.606488</td>\n",
       "    </tr>\n",
       "    <tr>\n",
       "      <th>min</th>\n",
       "      <td>0.000000</td>\n",
       "      <td>23.382840</td>\n",
       "      <td>0.000000</td>\n",
       "      <td>24.932070</td>\n",
       "      <td>121.473530</td>\n",
       "      <td>1.000000</td>\n",
       "      <td>402.000000</td>\n",
       "      <td>7.600000</td>\n",
       "    </tr>\n",
       "    <tr>\n",
       "      <th>25%</th>\n",
       "      <td>9.025000</td>\n",
       "      <td>289.324800</td>\n",
       "      <td>1.000000</td>\n",
       "      <td>24.963000</td>\n",
       "      <td>121.528085</td>\n",
       "      <td>1.000000</td>\n",
       "      <td>548.000000</td>\n",
       "      <td>27.700000</td>\n",
       "    </tr>\n",
       "    <tr>\n",
       "      <th>50%</th>\n",
       "      <td>16.100000</td>\n",
       "      <td>492.231300</td>\n",
       "      <td>4.000000</td>\n",
       "      <td>24.971100</td>\n",
       "      <td>121.538630</td>\n",
       "      <td>2.000000</td>\n",
       "      <td>975.000000</td>\n",
       "      <td>38.450000</td>\n",
       "    </tr>\n",
       "    <tr>\n",
       "      <th>75%</th>\n",
       "      <td>28.150000</td>\n",
       "      <td>1454.279000</td>\n",
       "      <td>6.000000</td>\n",
       "      <td>24.977455</td>\n",
       "      <td>121.543305</td>\n",
       "      <td>3.000000</td>\n",
       "      <td>1234.750000</td>\n",
       "      <td>46.600000</td>\n",
       "    </tr>\n",
       "    <tr>\n",
       "      <th>max</th>\n",
       "      <td>43.800000</td>\n",
       "      <td>6488.021000</td>\n",
       "      <td>10.000000</td>\n",
       "      <td>25.014590</td>\n",
       "      <td>121.566270</td>\n",
       "      <td>3.000000</td>\n",
       "      <td>1500.000000</td>\n",
       "      <td>117.500000</td>\n",
       "    </tr>\n",
       "  </tbody>\n",
       "</table>\n",
       "</div>"
      ],
      "text/plain": [
       "        House Age  Distance from nearest Metro station (km)  \\\n",
       "count  414.000000                                414.000000   \n",
       "mean    17.712560                               1083.885689   \n",
       "std     11.392485                               1262.109595   \n",
       "min      0.000000                                 23.382840   \n",
       "25%      9.025000                                289.324800   \n",
       "50%     16.100000                                492.231300   \n",
       "75%     28.150000                               1454.279000   \n",
       "max     43.800000                               6488.021000   \n",
       "\n",
       "       Number of convenience stores    latitude   longitude  \\\n",
       "count                    414.000000  414.000000  414.000000   \n",
       "mean                       4.094203   24.969030  121.533361   \n",
       "std                        2.945562    0.012410    0.015347   \n",
       "min                        0.000000   24.932070  121.473530   \n",
       "25%                        1.000000   24.963000  121.528085   \n",
       "50%                        4.000000   24.971100  121.538630   \n",
       "75%                        6.000000   24.977455  121.543305   \n",
       "max                       10.000000   25.014590  121.566270   \n",
       "\n",
       "       Number of bedrooms  House size (sqft)  House price of unit area  \n",
       "count          414.000000         414.000000                414.000000  \n",
       "mean             1.987923         931.475845                 37.980193  \n",
       "std              0.818875         348.910269                 13.606488  \n",
       "min              1.000000         402.000000                  7.600000  \n",
       "25%              1.000000         548.000000                 27.700000  \n",
       "50%              2.000000         975.000000                 38.450000  \n",
       "75%              3.000000        1234.750000                 46.600000  \n",
       "max              3.000000        1500.000000                117.500000  "
      ]
     },
     "execution_count": 5,
     "metadata": {},
     "output_type": "execute_result"
    }
   ],
   "source": [
    "df1.describe()"
   ]
  },
  {
   "cell_type": "code",
   "execution_count": 6,
   "id": "882cfa19",
   "metadata": {},
   "outputs": [
    {
     "data": {
      "image/png": "[encoded data removed]",
      "text/plain": [
       "<Figure size 1080x1080 with 2 Axes>"
      ]
     },
     "metadata": {
      "needs_background": "light"
     },
     "output_type": "display_data"
    }
   ],
   "source": [
    "corr=df1.corr(method='spearman')\n",
    "plt.figure(figsize=(15,15))\n",
    "g=sns.heatmap(corr,annot=True)"
   ]
  },
  {
   "cell_type": "markdown",
   "id": "c4c483fa",
   "metadata": {},
   "source": [
    "### from the above correlation heatmap it can be concluded that the\n",
    "### 1)House price is having positive correlation with number of convenience stores, longitue and latitude. \n",
    "### 2)House price is having negative correlation with distance from nearest metro station and House age\n",
    "### 3)House price is having neutral correlation with number of bedrooms,house size."
   ]
  },
  {
   "cell_type": "markdown",
   "id": "69bce883",
   "metadata": {},
   "source": [
    "### Importing the major regression algorithms for tarining the models and to make predictions"
   ]
  },
  {
   "cell_type": "code",
   "execution_count": 7,
   "id": "16ffc32f",
   "metadata": {},
   "outputs": [],
   "source": [
    "from sklearn.model_selection import cross_val_score\n",
    "from sklearn.model_selection import RepeatedKFold\n",
    "from sklearn.linear_model import LinearRegression,ElasticNet\n",
    "from sklearn.tree import DecisionTreeRegressor \n",
    "from sklearn.ensemble import RandomForestRegressor,AdaBoostRegressor,GradientBoostingRegressor\n",
    "from sklearn.svm import SVR\n",
    "from catboost import CatBoostRegressor\n",
    "from xgboost import XGBRegressor\n"
   ]
  },
  {
   "cell_type": "markdown",
   "id": "17ac3baa",
   "metadata": {},
   "source": [
    "### Features to evaluate the House price prediction are stored in the variable X and the Target Price of House is stored in the variable y"
   ]
  },
  {
   "cell_type": "code",
   "execution_count": 8,
   "id": "d330ee79",
   "metadata": {},
   "outputs": [],
   "source": [
    "data=df1.values\n",
    "X,y=data[:,:-1],data[:,-1]"
   ]
  },
  {
   "cell_type": "markdown",
   "id": "608ad05b",
   "metadata": {},
   "source": [
    "## Procedure for selecting the final model for House price prediction:\n",
    "### Without removing the outliers:\n",
    "As the dataset is very small  we will evaluate the various regression models using Repeated kfold cross validation method.\n",
    "Here we will use mean absolute error metric for the comparion between various regression models.\n",
    "\n",
    "### Perform the above step again by removing the outliers:\n",
    "Now compare the models of with outliers and the models without outliers and select the best model.\n",
    "Based on the best model we will perform hyper parameter tuning and then finalize the model for House price prediction.\n",
    "\n"
   ]
  },
  {
   "cell_type": "markdown",
   "id": "141804a2",
   "metadata": {},
   "source": [
    "### LinearRegression Model"
   ]
  },
  {
   "cell_type": "code",
   "execution_count": 9,
   "id": "8b964c7b",
   "metadata": {},
   "outputs": [
    {
     "name": "stdout",
     "output_type": "stream",
     "text": [
      "Mean MAE: 6.334 (1.063)\n"
     ]
    }
   ],
   "source": [
    "#define model\n",
    "model=LinearRegression()\n",
    "#define model evaluation method\n",
    "cv=RepeatedKFold(n_splits=10,n_repeats=3,random_state=1)\n",
    "#Evaluate of model\n",
    "scores=cross_val_score(model,X,y,scoring='neg_mean_absolute_error',cv=cv,n_jobs=-1)\n",
    "#force scores to be positive\n",
    "scores=np.absolute(scores)\n",
    "print('Mean MAE: %.3f (%.3f)' % (np.mean(scores), np.std(scores)))"
   ]
  },
  {
   "cell_type": "markdown",
   "id": "efe11300",
   "metadata": {},
   "source": [
    "### ElasticNet Regressor Model"
   ]
  },
  {
   "cell_type": "code",
   "execution_count": 10,
   "id": "befe8ea0",
   "metadata": {},
   "outputs": [
    {
     "name": "stdout",
     "output_type": "stream",
     "text": [
      "Mean MAE: 6.583 (1.027)\n"
     ]
    }
   ],
   "source": [
    "#define model\n",
    "model=ElasticNet(alpha=1,l1_ratio=0.5)\n",
    "DecisionTree_model=DecisionTreeRegressor()\n",
    "#define model evaluation method\n",
    "cv=RepeatedKFold(n_splits=10,n_repeats=3,random_state=1)\n",
    "#Evaluate of model\n",
    "scores=cross_val_score(model,X,y,scoring='neg_mean_absolute_error',cv=cv,n_jobs=-1)\n",
    "#force scores to be positive\n",
    "scores=np.absolute(scores)\n",
    "print('Mean MAE: %.3f (%.3f)' % (np.mean(scores), np.std(scores)))"
   ]
  },
  {
   "cell_type": "markdown",
   "id": "f764f152",
   "metadata": {},
   "source": [
    "### DecisionTreeRegressor Model"
   ]
  },
  {
   "cell_type": "code",
   "execution_count": 11,
   "id": "a53531bc",
   "metadata": {},
   "outputs": [
    {
     "name": "stdout",
     "output_type": "stream",
     "text": [
      "Mean MAE: 6.227 (1.212)\n"
     ]
    }
   ],
   "source": [
    "#define model\n",
    "model=DecisionTreeRegressor()\n",
    "#define model evaluation method\n",
    "cv=RepeatedKFold(n_splits=10,n_repeats=3,random_state=1)\n",
    "#Evaluate of model\n",
    "scores=cross_val_score(model,X,y,scoring='neg_mean_absolute_error',cv=cv,n_jobs=-1)\n",
    "#force scores to be positive\n",
    "scores=np.absolute(scores)\n",
    "print('Mean MAE: %.3f (%.3f)' % (np.mean(scores), np.std(scores)))"
   ]
  },
  {
   "cell_type": "markdown",
   "id": "b9ba98c4",
   "metadata": {},
   "source": [
    "### RandomForestRegressor Model"
   ]
  },
  {
   "cell_type": "code",
   "execution_count": 12,
   "id": "fed22e83",
   "metadata": {},
   "outputs": [
    {
     "name": "stdout",
     "output_type": "stream",
     "text": [
      "Mean MAE: 4.969 (0.739)\n"
     ]
    }
   ],
   "source": [
    "#define model\n",
    "model=RandomForestRegressor()\n",
    "#define model evaluation method\n",
    "cv=RepeatedKFold(n_splits=10,n_repeats=3,random_state=1)\n",
    "#Evaluate of model\n",
    "scores=cross_val_score(model,X,y,scoring='neg_mean_absolute_error',cv=cv,n_jobs=-1)\n",
    "#force scores to be positive\n",
    "scores=np.absolute(scores)\n",
    "print('Mean MAE: %.3f (%.3f)' % (np.mean(scores), np.std(scores)))"
   ]
  },
  {
   "cell_type": "markdown",
   "id": "5c06ed8c",
   "metadata": {},
   "source": [
    "### AdaBoostRegressor Model"
   ]
  },
  {
   "cell_type": "code",
   "execution_count": 13,
   "id": "cce36880",
   "metadata": {},
   "outputs": [
    {
     "name": "stdout",
     "output_type": "stream",
     "text": [
      "Mean MAE: 5.851 (0.796)\n"
     ]
    }
   ],
   "source": [
    "#define model\n",
    "model=AdaBoostRegressor()\n",
    "#define model evaluation method\n",
    "cv=RepeatedKFold(n_splits=10,n_repeats=3,random_state=1)\n",
    "#Evaluate of model\n",
    "scores=cross_val_score(model,X,y,scoring='neg_mean_absolute_error',cv=cv,n_jobs=-1)\n",
    "#force scores to be positive\n",
    "scores=np.absolute(scores)\n",
    "print('Mean MAE: %.3f (%.3f)' % (np.mean(scores), np.std(scores)))"
   ]
  },
  {
   "cell_type": "markdown",
   "id": "ec767b1b",
   "metadata": {},
   "source": [
    "### GradientBoostingRegressor Model"
   ]
  },
  {
   "cell_type": "code",
   "execution_count": 14,
   "id": "c15947bb",
   "metadata": {},
   "outputs": [
    {
     "name": "stdout",
     "output_type": "stream",
     "text": [
      "Mean MAE: 5.010 (0.816)\n"
     ]
    }
   ],
   "source": [
    "#define model\n",
    "model=GradientBoostingRegressor()\n",
    "#define model evaluation method\n",
    "cv=RepeatedKFold(n_splits=10,n_repeats=3,random_state=1)\n",
    "#Evaluate of model\n",
    "scores=cross_val_score(model,X,y,scoring='neg_mean_absolute_error',cv=cv,n_jobs=-1)\n",
    "#force scores to be positive\n",
    "scores=np.absolute(scores)\n",
    "print('Mean MAE: %.3f (%.3f)' % (np.mean(scores), np.std(scores)))"
   ]
  },
  {
   "cell_type": "markdown",
   "id": "4171bcb7",
   "metadata": {},
   "source": [
    "### Support vector regressor Model"
   ]
  },
  {
   "cell_type": "code",
   "execution_count": 15,
   "id": "9312ffb3",
   "metadata": {},
   "outputs": [
    {
     "name": "stdout",
     "output_type": "stream",
     "text": [
      "Mean MAE: 6.549 (1.152)\n"
     ]
    }
   ],
   "source": [
    "#define model\n",
    "model=SVR()\n",
    "#define model evaluation method\n",
    "cv=RepeatedKFold(n_splits=10,n_repeats=3,random_state=1)\n",
    "#Evaluate of model\n",
    "scores=cross_val_score(model,X,y,scoring='neg_mean_absolute_error',cv=cv,n_jobs=-1)\n",
    "#force scores to be positive\n",
    "scores=np.absolute(scores)\n",
    "print('Mean MAE: %.3f (%.3f)' % (np.mean(scores), np.std(scores)))"
   ]
  },
  {
   "cell_type": "markdown",
   "id": "bfd5c1d7",
   "metadata": {},
   "source": [
    "### CatBoostRegressor Model"
   ]
  },
  {
   "cell_type": "code",
   "execution_count": 16,
   "id": "6582007d",
   "metadata": {},
   "outputs": [
    {
     "name": "stdout",
     "output_type": "stream",
     "text": [
      "Mean MAE: 5.125 (0.924)\n"
     ]
    }
   ],
   "source": [
    "#define model\n",
    "model=CatBoostRegressor()\n",
    "#define model evaluation method\n",
    "cv=RepeatedKFold(n_splits=10,n_repeats=3,random_state=1)\n",
    "#Evaluate of model\n",
    "scores=cross_val_score(model,X,y,scoring='neg_mean_absolute_error',cv=cv,n_jobs=-1)\n",
    "#force scores to be positive\n",
    "scores=np.absolute(scores)\n",
    "print('Mean MAE: %.3f (%.3f)' % (np.mean(scores), np.std(scores)))"
   ]
  },
  {
   "cell_type": "markdown",
   "id": "9341c424",
   "metadata": {},
   "source": [
    "### XGBRegressor Model"
   ]
  },
  {
   "cell_type": "code",
   "execution_count": 17,
   "id": "5900d20b",
   "metadata": {},
   "outputs": [
    {
     "name": "stdout",
     "output_type": "stream",
     "text": [
      "Mean MAE: 5.348 (0.751)\n"
     ]
    }
   ],
   "source": [
    "#define model\n",
    "model=XGBRegressor()\n",
    "#define model evaluation method\n",
    "cv=RepeatedKFold(n_splits=10,n_repeats=3,random_state=1)\n",
    "#Evaluate of model\n",
    "scores=cross_val_score(model,X,y,scoring='neg_mean_absolute_error',cv=cv,n_jobs=-1)\n",
    "#force scores to be positive\n",
    "scores=np.absolute(scores)\n",
    "print('Mean MAE: %.3f (%.3f)' % (np.mean(scores), np.std(scores)))"
   ]
  },
  {
   "cell_type": "markdown",
   "id": "f251b7a3",
   "metadata": {},
   "source": [
    "### Removing the outliers from the dataset i.e. including the target variable because this is a typical case of a sampling problem in which we have to remove the outliers from the target variable aswell.\n",
    "### Standardizing  both the input and output variables which is important for the models like Support vetor machines, linear models like linear, lasso, ridge and ElasticNet"
   ]
  },
  {
   "cell_type": "code",
   "execution_count": 18,
   "id": "ed84a260",
   "metadata": {},
   "outputs": [
    {
     "name": "stdout",
     "output_type": "stream",
     "text": [
      "Numerical_features count: 8\n",
      "Discreate_features count: 2\n",
      "Contineous_features count: 6\n",
      "Categorical_features count: 0\n"
     ]
    }
   ],
   "source": [
    "df=df1.copy()\n",
    "numerical_features=[feature for feature in df.columns if df[feature].dtype!='O']\n",
    "discreate_features=[feature for feature in df.columns if len(df[feature].unique())<25]\n",
    "contineous_features=[feature for feature in numerical_features if feature not in discreate_features]\n",
    "categorical_features=[feature for feature in df.columns if feature not in numerical_features]\n",
    "print('Numerical_features count: {}'.format(len(numerical_features)))\n",
    "print('Discreate_features count: {}'.format(len(discreate_features)))\n",
    "print('Contineous_features count: {}'.format(len(contineous_features)))\n",
    "print('Categorical_features count: {}'.format(len(categorical_features)))\n"
   ]
  },
  {
   "cell_type": "markdown",
   "id": "f0e8a105",
   "metadata": {},
   "source": [
    "### Box plot to detect the outlier in the dataset"
   ]
  },
  {
   "cell_type": "code",
   "execution_count": 19,
   "id": "147e1781",
   "metadata": {},
   "outputs": [
    {
     "name": "stderr",
     "output_type": "stream",
     "text": [
      "C:\\Users\\teja9\\anaconda3\\lib\\site-packages\\seaborn\\_decorators.py:36: FutureWarning: Pass the following variable as a keyword arg: x. From version 0.12, the only valid positional argument will be `data`, and passing other arguments without an explicit keyword will result in an error or misinterpretation.\n",
      "  warnings.warn(\n",
      "C:\\Users\\teja9\\anaconda3\\lib\\site-packages\\seaborn\\_decorators.py:36: FutureWarning: Pass the following variable as a keyword arg: x. From version 0.12, the only valid positional argument will be `data`, and passing other arguments without an explicit keyword will result in an error or misinterpretation.\n",
      "  warnings.warn(\n",
      "C:\\Users\\teja9\\anaconda3\\lib\\site-packages\\seaborn\\_decorators.py:36: FutureWarning: Pass the following variable as a keyword arg: x. From version 0.12, the only valid positional argument will be `data`, and passing other arguments without an explicit keyword will result in an error or misinterpretation.\n",
      "  warnings.warn(\n",
      "C:\\Users\\teja9\\anaconda3\\lib\\site-packages\\seaborn\\_decorators.py:36: FutureWarning: Pass the following variable as a keyword arg: x. From version 0.12, the only valid positional argument will be `data`, and passing other arguments without an explicit keyword will result in an error or misinterpretation.\n",
      "  warnings.warn(\n",
      "C:\\Users\\teja9\\anaconda3\\lib\\site-packages\\seaborn\\_decorators.py:36: FutureWarning: Pass the following variable as a keyword arg: x. From version 0.12, the only valid positional argument will be `data`, and passing other arguments without an explicit keyword will result in an error or misinterpretation.\n",
      "  warnings.warn(\n",
      "C:\\Users\\teja9\\anaconda3\\lib\\site-packages\\seaborn\\_decorators.py:36: FutureWarning: Pass the following variable as a keyword arg: x. From version 0.12, the only valid positional argument will be `data`, and passing other arguments without an explicit keyword will result in an error or misinterpretation.\n",
      "  warnings.warn(\n",
      "C:\\Users\\teja9\\anaconda3\\lib\\site-packages\\seaborn\\_decorators.py:36: FutureWarning: Pass the following variable as a keyword arg: x. From version 0.12, the only valid positional argument will be `data`, and passing other arguments without an explicit keyword will result in an error or misinterpretation.\n",
      "  warnings.warn(\n",
      "C:\\Users\\teja9\\anaconda3\\lib\\site-packages\\seaborn\\_decorators.py:36: FutureWarning: Pass the following variable as a keyword arg: x. From version 0.12, the only valid positional argument will be `data`, and passing other arguments without an explicit keyword will result in an error or misinterpretation.\n",
      "  warnings.warn(\n"
     ]
    },
    {
     "data": {
      "image/png": "[encoded data removed]",
      "text/plain": [
       "<Figure size 1440x720 with 1 Axes>"
      ]
     },
     "metadata": {
      "needs_background": "light"
     },
     "output_type": "display_data"
    },
    {
     "data": {
      "image/png": "[encoded data removed]",
      "text/plain": [
       "<Figure size 720x720 with 1 Axes>"
      ]
     },
     "metadata": {
      "needs_background": "light"
     },
     "output_type": "display_data"
    },
    {
     "data": {
      "image/png": "[encoded data removed]",
      "text/plain": [
       "<Figure size 720x720 with 1 Axes>"
      ]
     },
     "metadata": {
      "needs_background": "light"
     },
     "output_type": "display_data"
    },
    {
     "data": {
      "image/png": "[encoded data removed]",
      "text/plain": [
       "<Figure size 720x720 with 1 Axes>"
      ]
     },
     "metadata": {
      "needs_background": "light"
     },
     "output_type": "display_data"
    },
    {
     "data": {
      "image/png": "[encoded data removed]",
      "text/plain": [
       "<Figure size 720x720 with 1 Axes>"
      ]
     },
     "metadata": {
      "needs_background": "light"
     },
     "output_type": "display_data"
    },
    {
     "data": {
      "image/png": "[encoded data removed]",
      "text/plain": [
       "<Figure size 720x720 with 1 Axes>"
      ]
     },
     "metadata": {
      "needs_background": "light"
     },
     "output_type": "display_data"
    },
    {
     "data": {
      "image/png": "[encoded data removed]",
      "text/plain": [
       "<Figure size 720x720 with 1 Axes>"
      ]
     },
     "metadata": {
      "needs_background": "light"
     },
     "output_type": "display_data"
    },
    {
     "data": {
      "image/png": "[encoded data removed]",
      "text/plain": [
       "<Figure size 720x720 with 1 Axes>"
      ]
     },
     "metadata": {
      "needs_background": "light"
     },
     "output_type": "display_data"
    },
    {
     "data": {
      "text/plain": [
       "<Figure size 720x720 with 0 Axes>"
      ]
     },
     "metadata": {},
     "output_type": "display_data"
    }
   ],
   "source": [
    "for feature in df.columns:\n",
    "    sns.boxplot(df[feature])\n",
    "    plt.xlabel(feature)\n",
    "    plt.title(feature)\n",
    "    plt.figure(figsize=(10,10))\n",
    "    plt.show"
   ]
  },
  {
   "cell_type": "markdown",
   "id": "07a46a31",
   "metadata": {},
   "source": [
    "### Using interquartile range method we will remove the outliers"
   ]
  },
  {
   "cell_type": "code",
   "execution_count": 20,
   "id": "b42ffbd0",
   "metadata": {},
   "outputs": [],
   "source": [
    "for feature in df.columns:\n",
    "    IQR=df[feature].quantile(0.75)-df[feature].quantile(0.25)\n",
    "    ub=df[feature].quantile(0.75)+(1.5*IQR)\n",
    "    lb=df[feature].quantile(0.25)-(1.5*IQR)\n",
    "    df.loc[df[feature]>ub,feature]=ub\n",
    "    df.loc[df[feature]<lb,feature]=lb"
   ]
  },
  {
   "cell_type": "markdown",
   "id": "54c4c26e",
   "metadata": {},
   "source": [
    "### Box plots after the removal of the outliers"
   ]
  },
  {
   "cell_type": "code",
   "execution_count": 21,
   "id": "48163d57",
   "metadata": {},
   "outputs": [
    {
     "name": "stderr",
     "output_type": "stream",
     "text": [
      "C:\\Users\\teja9\\anaconda3\\lib\\site-packages\\seaborn\\_decorators.py:36: FutureWarning: Pass the following variable as a keyword arg: x. From version 0.12, the only valid positional argument will be `data`, and passing other arguments without an explicit keyword will result in an error or misinterpretation.\n",
      "  warnings.warn(\n",
      "C:\\Users\\teja9\\anaconda3\\lib\\site-packages\\seaborn\\_decorators.py:36: FutureWarning: Pass the following variable as a keyword arg: x. From version 0.12, the only valid positional argument will be `data`, and passing other arguments without an explicit keyword will result in an error or misinterpretation.\n",
      "  warnings.warn(\n",
      "C:\\Users\\teja9\\anaconda3\\lib\\site-packages\\seaborn\\_decorators.py:36: FutureWarning: Pass the following variable as a keyword arg: x. From version 0.12, the only valid positional argument will be `data`, and passing other arguments without an explicit keyword will result in an error or misinterpretation.\n",
      "  warnings.warn(\n",
      "C:\\Users\\teja9\\anaconda3\\lib\\site-packages\\seaborn\\_decorators.py:36: FutureWarning: Pass the following variable as a keyword arg: x. From version 0.12, the only valid positional argument will be `data`, and passing other arguments without an explicit keyword will result in an error or misinterpretation.\n",
      "  warnings.warn(\n",
      "C:\\Users\\teja9\\anaconda3\\lib\\site-packages\\seaborn\\_decorators.py:36: FutureWarning: Pass the following variable as a keyword arg: x. From version 0.12, the only valid positional argument will be `data`, and passing other arguments without an explicit keyword will result in an error or misinterpretation.\n",
      "  warnings.warn(\n",
      "C:\\Users\\teja9\\anaconda3\\lib\\site-packages\\seaborn\\_decorators.py:36: FutureWarning: Pass the following variable as a keyword arg: x. From version 0.12, the only valid positional argument will be `data`, and passing other arguments without an explicit keyword will result in an error or misinterpretation.\n",
      "  warnings.warn(\n",
      "C:\\Users\\teja9\\anaconda3\\lib\\site-packages\\seaborn\\_decorators.py:36: FutureWarning: Pass the following variable as a keyword arg: x. From version 0.12, the only valid positional argument will be `data`, and passing other arguments without an explicit keyword will result in an error or misinterpretation.\n",
      "  warnings.warn(\n",
      "C:\\Users\\teja9\\anaconda3\\lib\\site-packages\\seaborn\\_decorators.py:36: FutureWarning: Pass the following variable as a keyword arg: x. From version 0.12, the only valid positional argument will be `data`, and passing other arguments without an explicit keyword will result in an error or misinterpretation.\n",
      "  warnings.warn(\n"
     ]
    },
    {
     "data": {
      "image/png": "[encoded data removed]",
      "text/plain": [
       "<Figure size 1440x720 with 1 Axes>"
      ]
     },
     "metadata": {
      "needs_background": "light"
     },
     "output_type": "display_data"
    },
    {
     "data": {
      "image/png": "[encoded data removed]",
      "text/plain": [
       "<Figure size 720x720 with 1 Axes>"
      ]
     },
     "metadata": {
      "needs_background": "light"
     },
     "output_type": "display_data"
    },
    {
     "data": {
      "image/png": "[encoded data removed]",
      "text/plain": [
       "<Figure size 720x720 with 1 Axes>"
      ]
     },
     "metadata": {
      "needs_background": "light"
     },
     "output_type": "display_data"
    },
    {
     "data": {
      "image/png": "[encoded data removed]",
      "text/plain": [
       "<Figure size 720x720 with 1 Axes>"
      ]
     },
     "metadata": {
      "needs_background": "light"
     },
     "output_type": "display_data"
    },
    {
     "data": {
      "image/png": "[encoded data removed]",
      "text/plain": [
       "<Figure size 720x720 with 1 Axes>"
      ]
     },
     "metadata": {
      "needs_background": "light"
     },
     "output_type": "display_data"
    },
    {
     "data": {
      "image/png": "[encoded data removed]",
      "text/plain": [
       "<Figure size 720x720 with 1 Axes>"
      ]
     },
     "metadata": {
      "needs_background": "light"
     },
     "output_type": "display_data"
    },
    {
     "data": {
      "image/png": "[encoded data removed]",
      "text/plain": [
       "<Figure size 720x720 with 1 Axes>"
      ]
     },
     "metadata": {
      "needs_background": "light"
     },
     "output_type": "display_data"
    },
    {
     "data": {
      "image/png": "[encoded data removed]",
      "text/plain": [
       "<Figure size 720x720 with 1 Axes>"
      ]
     },
     "metadata": {
      "needs_background": "light"
     },
     "output_type": "display_data"
    },
    {
     "data": {
      "text/plain": [
       "<Figure size 720x720 with 0 Axes>"
      ]
     },
     "metadata": {},
     "output_type": "display_data"
    }
   ],
   "source": [
    "for feature in df.columns:\n",
    "    sns.boxplot(df[feature])\n",
    "    plt.xlabel(feature)\n",
    "    plt.title(feature)\n",
    "    plt.figure(figsize=(10,10))\n",
    "    plt.show"
   ]
  },
  {
   "cell_type": "markdown",
   "id": "059c7eee",
   "metadata": {},
   "source": [
    "### Input features are stored in the X variable\n",
    "### Target House Price is stored in the y variable"
   ]
  },
  {
   "cell_type": "code",
   "execution_count": 22,
   "id": "319e321f",
   "metadata": {},
   "outputs": [],
   "source": [
    "data=df.values\n",
    "X,y=data[:,:-1],data[:,-1]"
   ]
  },
  {
   "cell_type": "markdown",
   "id": "48a27c62",
   "metadata": {},
   "source": [
    "###  Data preparation for model evaluation with k-fold cross-validation\n",
    "1)Define the Pipeline\n",
    "\n",
    "2)Define the evaluation procedure\n",
    "\n",
    "3)Evaluate the model using cross-validation\n",
    "\n",
    "4)Report performance\n",
    "\n",
    "\n"
   ]
  },
  {
   "cell_type": "code",
   "execution_count": 23,
   "id": "6e253052",
   "metadata": {},
   "outputs": [],
   "source": [
    "from sklearn.pipeline import Pipeline\n",
    "from sklearn.preprocessing import StandardScaler"
   ]
  },
  {
   "cell_type": "markdown",
   "id": "83f62795",
   "metadata": {},
   "source": [
    "### LinearRegression Model by removing outliers and  standardization of the dataset"
   ]
  },
  {
   "cell_type": "code",
   "execution_count": 24,
   "id": "7428ccf2",
   "metadata": {},
   "outputs": [
    {
     "name": "stdout",
     "output_type": "stream",
     "text": [
      "Mean MAE: 5.731 (0.826)\n"
     ]
    }
   ],
   "source": [
    "#define the pipeline\n",
    "steps=list()\n",
    "steps.append(('scaler',StandardScaler()))\n",
    "steps.append(('model',LinearRegression()))\n",
    "pipeline=Pipeline(steps=steps)\n",
    "#define model evaluation method\n",
    "cv=RepeatedKFold(n_splits=10,n_repeats=3,random_state=1)\n",
    "#Evaluate of model\n",
    "scores=cross_val_score(pipeline,X,y,scoring='neg_mean_absolute_error',cv=cv,n_jobs=-1)\n",
    "#force scores to be positive\n",
    "scores=np.absolute(scores)\n",
    "print('Mean MAE: %.3f (%.3f)' % (np.mean(scores), np.std(scores)))"
   ]
  },
  {
   "cell_type": "markdown",
   "id": "a1029f26",
   "metadata": {},
   "source": [
    "### ElasticNet Regressor Model  by removing outliers and  standardization of the dataset"
   ]
  },
  {
   "cell_type": "code",
   "execution_count": 25,
   "id": "eb00b7d7",
   "metadata": {},
   "outputs": [
    {
     "name": "stdout",
     "output_type": "stream",
     "text": [
      "Mean MAE: 6.255 (0.940)\n"
     ]
    }
   ],
   "source": [
    "#define the pipeline\n",
    "steps=list()\n",
    "steps.append(('scaler',StandardScaler()))\n",
    "steps.append(('model',ElasticNet(alpha=1,l1_ratio=0.5)))\n",
    "pipeline=Pipeline(steps=steps)\n",
    "#define model evaluation method\n",
    "cv=RepeatedKFold(n_splits=10,n_repeats=3,random_state=1)\n",
    "#Evaluate of model\n",
    "scores=cross_val_score(pipeline,X,y,scoring='neg_mean_absolute_error',cv=cv,n_jobs=-1)\n",
    "#force scores to be positive\n",
    "scores=np.absolute(scores)\n",
    "print('Mean MAE: %.3f (%.3f)' % (np.mean(scores), np.std(scores)))"
   ]
  },
  {
   "cell_type": "markdown",
   "id": "c0c10a22",
   "metadata": {},
   "source": [
    "### Support vector regressor Model by removing outliers and  standardization of the dataset"
   ]
  },
  {
   "cell_type": "code",
   "execution_count": 26,
   "id": "652a3f28",
   "metadata": {},
   "outputs": [
    {
     "name": "stdout",
     "output_type": "stream",
     "text": [
      "Mean MAE: 5.716 (0.924)\n"
     ]
    }
   ],
   "source": [
    "#define the pipeline\n",
    "steps=list()\n",
    "steps.append(('scaler',StandardScaler()))\n",
    "steps.append(('model',SVR()))\n",
    "pipeline=Pipeline(steps=steps)\n",
    "#define model evaluation method\n",
    "cv=RepeatedKFold(n_splits=10,n_repeats=3,random_state=1)\n",
    "#Evaluate of model\n",
    "scores=cross_val_score(pipeline,X,y,scoring='neg_mean_absolute_error',cv=cv,n_jobs=-1)\n",
    "#force scores to be positive\n",
    "scores=np.absolute(scores)\n",
    "print('Mean MAE: %.3f (%.3f)' % (np.mean(scores), np.std(scores)))"
   ]
  },
  {
   "cell_type": "markdown",
   "id": "e3ff37ef",
   "metadata": {},
   "source": [
    "### DecisionTreeRegressor model  by removing outliers and without standardization of the dataset"
   ]
  },
  {
   "cell_type": "code",
   "execution_count": 27,
   "id": "1d2a72ea",
   "metadata": {},
   "outputs": [
    {
     "name": "stdout",
     "output_type": "stream",
     "text": [
      "Mean MAE: 6.280 (0.930)\n"
     ]
    }
   ],
   "source": [
    "#define model\n",
    "model=DecisionTreeRegressor()\n",
    "#define model evaluation method\n",
    "cv=RepeatedKFold(n_splits=10,n_repeats=3,random_state=1)\n",
    "#Evaluate of model\n",
    "scores=cross_val_score(model,X,y,scoring='neg_mean_absolute_error',cv=cv,n_jobs=-1)\n",
    "#force scores to be positive\n",
    "scores=np.absolute(scores)\n",
    "print('Mean MAE: %.3f (%.3f)' % (np.mean(scores), np.std(scores)))"
   ]
  },
  {
   "cell_type": "markdown",
   "id": "e58033df",
   "metadata": {},
   "source": [
    "### RandomForestRegressor model  by removing outliers and without standardization of the dataset"
   ]
  },
  {
   "cell_type": "code",
   "execution_count": 28,
   "id": "3bfaf836",
   "metadata": {},
   "outputs": [
    {
     "name": "stdout",
     "output_type": "stream",
     "text": [
      "Mean MAE: 4.850 (0.612)\n"
     ]
    }
   ],
   "source": [
    "#define model\n",
    "model=RandomForestRegressor()\n",
    "#define model evaluation method\n",
    "cv=RepeatedKFold(n_splits=10,n_repeats=3,random_state=1)\n",
    "#Evaluate of model\n",
    "scores=cross_val_score(model,X,y,scoring='neg_mean_absolute_error',cv=cv,n_jobs=-1)\n",
    "#force scores to be positive\n",
    "scores=np.absolute(scores)\n",
    "print('Mean MAE: %.3f (%.3f)' % (np.mean(scores), np.std(scores)))"
   ]
  },
  {
   "cell_type": "markdown",
   "id": "71e8885b",
   "metadata": {},
   "source": [
    "### AdaboostRegressor model  by removing outliers and without standardization of the dataset"
   ]
  },
  {
   "cell_type": "code",
   "execution_count": 31,
   "id": "31bd4925",
   "metadata": {},
   "outputs": [
    {
     "name": "stdout",
     "output_type": "stream",
     "text": [
      "Mean MAE: 5.668 (0.669)\n"
     ]
    }
   ],
   "source": [
    "#define model\n",
    "model=AdaBoostRegressor()\n",
    "#define model evaluation method\n",
    "cv=RepeatedKFold(n_splits=10,n_repeats=3,random_state=1)\n",
    "#Evaluate of model\n",
    "scores=cross_val_score(model,X,y,scoring='neg_mean_absolute_error',cv=cv,n_jobs=-1)\n",
    "#force scores to be positive\n",
    "scores=np.absolute(scores)\n",
    "print('Mean MAE: %.3f (%.3f)' % (np.mean(scores), np.std(scores)))"
   ]
  },
  {
   "cell_type": "markdown",
   "id": "8459dea6",
   "metadata": {},
   "source": [
    "### GradientboostRegressor model  by removing outliers and without standardization of the dataset"
   ]
  },
  {
   "cell_type": "code",
   "execution_count": 32,
   "id": "4fafbeea",
   "metadata": {},
   "outputs": [
    {
     "name": "stdout",
     "output_type": "stream",
     "text": [
      "Mean MAE: 4.824 (0.618)\n"
     ]
    }
   ],
   "source": [
    "#define model\n",
    "model=GradientBoostingRegressor()\n",
    "#define model evaluation method\n",
    "cv=RepeatedKFold(n_splits=10,n_repeats=3,random_state=1)\n",
    "#Evaluate of model\n",
    "scores=cross_val_score(model,X,y,scoring='neg_mean_absolute_error',cv=cv,n_jobs=-1)\n",
    "#force scores to be positive\n",
    "scores=np.absolute(scores)\n",
    "print('Mean MAE: %.3f (%.3f)' % (np.mean(scores), np.std(scores)))"
   ]
  },
  {
   "cell_type": "markdown",
   "id": "7e421fb6",
   "metadata": {},
   "source": [
    "### CatBoostRegressor model  by removing outliers and without standardization of the dataset"
   ]
  },
  {
   "cell_type": "code",
   "execution_count": 33,
   "id": "17892829",
   "metadata": {},
   "outputs": [
    {
     "name": "stdout",
     "output_type": "stream",
     "text": [
      "Mean MAE: 4.983 (0.704)\n"
     ]
    }
   ],
   "source": [
    "#define model\n",
    "model=CatBoostRegressor()\n",
    "#define model evaluation method\n",
    "cv=RepeatedKFold(n_splits=10,n_repeats=3,random_state=1)\n",
    "#Evaluate of model\n",
    "scores=cross_val_score(model,X,y,scoring='neg_mean_absolute_error',cv=cv,n_jobs=-1)\n",
    "#force scores to be positive\n",
    "scores=np.absolute(scores)\n",
    "print('Mean MAE: %.3f (%.3f)' % (np.mean(scores), np.std(scores)))"
   ]
  },
  {
   "cell_type": "markdown",
   "id": "a43fc8c3",
   "metadata": {},
   "source": [
    "### XGBoostRegressor model  by removing outliers and without standardization of the dataset"
   ]
  },
  {
   "cell_type": "code",
   "execution_count": 36,
   "id": "67adabbb",
   "metadata": {},
   "outputs": [
    {
     "name": "stdout",
     "output_type": "stream",
     "text": [
      "Mean MAE: 5.341 (0.662)\n"
     ]
    }
   ],
   "source": [
    "#define model\n",
    "model=XGBRegressor()\n",
    "#define model evaluation method\n",
    "cv=RepeatedKFold(n_splits=10,n_repeats=3,random_state=1)\n",
    "#Evaluate of model\n",
    "scores=cross_val_score(model,X,y,scoring='neg_mean_absolute_error',cv=cv,n_jobs=-1)\n",
    "#force scores to be positive\n",
    "scores=np.absolute(scores)\n",
    "print('Mean MAE: %.3f (%.3f)' % (np.mean(scores), np.std(scores)))"
   ]
  },
  {
   "cell_type": "markdown",
   "id": "0e048ada",
   "metadata": {},
   "source": [
    "### Out of all the models GradientBoostRegressor gave the best Mean Absolute Error score i.e 4.823 and the second best is RandomForestRegressor\n",
    "\n",
    "### So now we will perform hyperparameter tuning on GradientBoostRegressor model "
   ]
  },
  {
   "cell_type": "markdown",
   "id": "049728b9",
   "metadata": {},
   "source": [
    "### Optimal parameters(Hyperparameter tuning) for GradientBoostRegressor using GridSearchCV for Regression"
   ]
  },
  {
   "cell_type": "code",
   "execution_count": 37,
   "id": "54455d03",
   "metadata": {},
   "outputs": [],
   "source": [
    "data=df.values\n",
    "X,y=data[:,:-1],data[:,-1]\n"
   ]
  },
  {
   "cell_type": "code",
   "execution_count": 39,
   "id": "d8d339ef",
   "metadata": {},
   "outputs": [
    {
     "name": "stdout",
     "output_type": "stream",
     "text": [
      "Best: -4.741791 using {'learning_rate': 0.01, 'max_depth': 3, 'n_estimators': 500, 'subsample': 0.7}\n",
      "-10.619938 (1.344898) with: {'learning_rate': 0.0001, 'max_depth': 3, 'n_estimators': 10, 'subsample': 0.5}\n",
      "-10.619856 (1.344830) with: {'learning_rate': 0.0001, 'max_depth': 3, 'n_estimators': 10, 'subsample': 0.7}\n",
      "-10.619777 (1.344889) with: {'learning_rate': 0.0001, 'max_depth': 3, 'n_estimators': 10, 'subsample': 1.0}\n",
      "-10.588338 (1.342735) with: {'learning_rate': 0.0001, 'max_depth': 3, 'n_estimators': 50, 'subsample': 0.5}\n",
      "-10.587887 (1.342692) with: {'learning_rate': 0.0001, 'max_depth': 3, 'n_estimators': 50, 'subsample': 0.7}\n",
      "-10.587524 (1.342936) with: {'learning_rate': 0.0001, 'max_depth': 3, 'n_estimators': 50, 'subsample': 1.0}\n",
      "-10.548834 (1.340260) with: {'learning_rate': 0.0001, 'max_depth': 3, 'n_estimators': 100, 'subsample': 0.5}\n",
      "-10.548329 (1.340127) with: {'learning_rate': 0.0001, 'max_depth': 3, 'n_estimators': 100, 'subsample': 0.7}\n",
      "-10.547470 (1.340539) with: {'learning_rate': 0.0001, 'max_depth': 3, 'n_estimators': 100, 'subsample': 1.0}\n",
      "-10.241893 (1.321169) with: {'learning_rate': 0.0001, 'max_depth': 3, 'n_estimators': 500, 'subsample': 0.5}\n",
      "-10.238641 (1.320616) with: {'learning_rate': 0.0001, 'max_depth': 3, 'n_estimators': 500, 'subsample': 0.7}\n",
      "-10.234482 (1.322180) with: {'learning_rate': 0.0001, 'max_depth': 3, 'n_estimators': 500, 'subsample': 1.0}\n",
      "-10.619392 (1.344918) with: {'learning_rate': 0.0001, 'max_depth': 7, 'n_estimators': 10, 'subsample': 0.5}\n",
      "-10.619238 (1.344865) with: {'learning_rate': 0.0001, 'max_depth': 7, 'n_estimators': 10, 'subsample': 0.7}\n",
      "-10.619314 (1.344998) with: {'learning_rate': 0.0001, 'max_depth': 7, 'n_estimators': 10, 'subsample': 1.0}\n",
      "-10.584948 (1.342684) with: {'learning_rate': 0.0001, 'max_depth': 7, 'n_estimators': 50, 'subsample': 0.5}\n",
      "-10.584864 (1.342835) with: {'learning_rate': 0.0001, 'max_depth': 7, 'n_estimators': 50, 'subsample': 0.7}\n",
      "-10.585188 (1.343541) with: {'learning_rate': 0.0001, 'max_depth': 7, 'n_estimators': 50, 'subsample': 1.0}\n",
      "-10.542631 (1.340100) with: {'learning_rate': 0.0001, 'max_depth': 7, 'n_estimators': 100, 'subsample': 0.5}\n",
      "-10.542224 (1.340471) with: {'learning_rate': 0.0001, 'max_depth': 7, 'n_estimators': 100, 'subsample': 0.7}\n",
      "-10.542695 (1.341769) with: {'learning_rate': 0.0001, 'max_depth': 7, 'n_estimators': 100, 'subsample': 1.0}\n",
      "-10.212393 (1.320084) with: {'learning_rate': 0.0001, 'max_depth': 7, 'n_estimators': 500, 'subsample': 0.5}\n",
      "-10.208969 (1.320178) with: {'learning_rate': 0.0001, 'max_depth': 7, 'n_estimators': 500, 'subsample': 0.7}\n",
      "-10.213707 (1.327210) with: {'learning_rate': 0.0001, 'max_depth': 7, 'n_estimators': 500, 'subsample': 1.0}\n",
      "-10.619232 (1.344907) with: {'learning_rate': 0.0001, 'max_depth': 9, 'n_estimators': 10, 'subsample': 0.5}\n",
      "-10.619173 (1.344840) with: {'learning_rate': 0.0001, 'max_depth': 9, 'n_estimators': 10, 'subsample': 0.7}\n",
      "-10.619309 (1.344999) with: {'learning_rate': 0.0001, 'max_depth': 9, 'n_estimators': 10, 'subsample': 1.0}\n",
      "-10.585041 (1.342516) with: {'learning_rate': 0.0001, 'max_depth': 9, 'n_estimators': 50, 'subsample': 0.5}\n",
      "-10.584556 (1.342752) with: {'learning_rate': 0.0001, 'max_depth': 9, 'n_estimators': 50, 'subsample': 0.7}\n",
      "-10.585218 (1.343427) with: {'learning_rate': 0.0001, 'max_depth': 9, 'n_estimators': 50, 'subsample': 1.0}\n",
      "-10.542375 (1.339722) with: {'learning_rate': 0.0001, 'max_depth': 9, 'n_estimators': 100, 'subsample': 0.5}\n",
      "-10.541868 (1.339714) with: {'learning_rate': 0.0001, 'max_depth': 9, 'n_estimators': 100, 'subsample': 0.7}\n",
      "-10.542823 (1.341591) with: {'learning_rate': 0.0001, 'max_depth': 9, 'n_estimators': 100, 'subsample': 1.0}\n",
      "-10.210049 (1.319362) with: {'learning_rate': 0.0001, 'max_depth': 9, 'n_estimators': 500, 'subsample': 0.5}\n",
      "-10.207534 (1.320783) with: {'learning_rate': 0.0001, 'max_depth': 9, 'n_estimators': 500, 'subsample': 0.7}\n",
      "-10.212403 (1.328298) with: {'learning_rate': 0.0001, 'max_depth': 9, 'n_estimators': 500, 'subsample': 1.0}\n",
      "-10.549059 (1.340531) with: {'learning_rate': 0.001, 'max_depth': 3, 'n_estimators': 10, 'subsample': 0.5}\n",
      "-10.548824 (1.340603) with: {'learning_rate': 0.001, 'max_depth': 3, 'n_estimators': 10, 'subsample': 0.7}\n",
      "-10.547443 (1.340533) with: {'learning_rate': 0.001, 'max_depth': 3, 'n_estimators': 10, 'subsample': 1.0}\n",
      "-10.241578 (1.320431) with: {'learning_rate': 0.001, 'max_depth': 3, 'n_estimators': 50, 'subsample': 0.5}\n",
      "-10.239318 (1.319271) with: {'learning_rate': 0.001, 'max_depth': 3, 'n_estimators': 50, 'subsample': 0.7}\n",
      "-10.234333 (1.322166) with: {'learning_rate': 0.001, 'max_depth': 3, 'n_estimators': 50, 'subsample': 1.0}\n",
      "-9.877161 (1.297656) with: {'learning_rate': 0.001, 'max_depth': 3, 'n_estimators': 100, 'subsample': 0.5}\n",
      "-9.872618 (1.297340) with: {'learning_rate': 0.001, 'max_depth': 3, 'n_estimators': 100, 'subsample': 0.7}\n",
      "-9.865099 (1.301984) with: {'learning_rate': 0.001, 'max_depth': 3, 'n_estimators': 100, 'subsample': 1.0}\n",
      "-7.606539 (1.150780) with: {'learning_rate': 0.001, 'max_depth': 3, 'n_estimators': 500, 'subsample': 0.5}\n",
      "-7.600562 (1.162834) with: {'learning_rate': 0.001, 'max_depth': 3, 'n_estimators': 500, 'subsample': 0.7}\n",
      "-7.620909 (1.159920) with: {'learning_rate': 0.001, 'max_depth': 3, 'n_estimators': 500, 'subsample': 1.0}\n",
      "-10.542213 (1.340200) with: {'learning_rate': 0.001, 'max_depth': 7, 'n_estimators': 10, 'subsample': 0.5}\n",
      "-10.542713 (1.340571) with: {'learning_rate': 0.001, 'max_depth': 7, 'n_estimators': 10, 'subsample': 0.7}\n",
      "-10.542709 (1.341804) with: {'learning_rate': 0.001, 'max_depth': 7, 'n_estimators': 10, 'subsample': 1.0}\n",
      "-10.212701 (1.320055) with: {'learning_rate': 0.001, 'max_depth': 7, 'n_estimators': 50, 'subsample': 0.5}\n",
      "-10.210091 (1.320189) with: {'learning_rate': 0.001, 'max_depth': 7, 'n_estimators': 50, 'subsample': 0.7}\n",
      "-10.214231 (1.327067) with: {'learning_rate': 0.001, 'max_depth': 7, 'n_estimators': 50, 'subsample': 1.0}\n",
      "-9.818501 (1.298705) with: {'learning_rate': 0.001, 'max_depth': 7, 'n_estimators': 100, 'subsample': 0.5}\n",
      "-9.814447 (1.298447) with: {'learning_rate': 0.001, 'max_depth': 7, 'n_estimators': 100, 'subsample': 0.7}\n",
      "-9.827194 (1.313145) with: {'learning_rate': 0.001, 'max_depth': 7, 'n_estimators': 100, 'subsample': 1.0}\n",
      "-7.436504 (1.120098) with: {'learning_rate': 0.001, 'max_depth': 7, 'n_estimators': 500, 'subsample': 0.5}\n",
      "-7.435607 (1.123019) with: {'learning_rate': 0.001, 'max_depth': 7, 'n_estimators': 500, 'subsample': 0.7}\n",
      "-7.585559 (1.155605) with: {'learning_rate': 0.001, 'max_depth': 7, 'n_estimators': 500, 'subsample': 1.0}\n",
      "-10.542537 (1.340243) with: {'learning_rate': 0.001, 'max_depth': 9, 'n_estimators': 10, 'subsample': 0.5}\n",
      "-10.542213 (1.340399) with: {'learning_rate': 0.001, 'max_depth': 9, 'n_estimators': 10, 'subsample': 0.7}\n",
      "-10.543018 (1.341660) with: {'learning_rate': 0.001, 'max_depth': 9, 'n_estimators': 10, 'subsample': 1.0}\n",
      "-10.210321 (1.320632) with: {'learning_rate': 0.001, 'max_depth': 9, 'n_estimators': 50, 'subsample': 0.5}\n",
      "-10.207846 (1.320750) with: {'learning_rate': 0.001, 'max_depth': 9, 'n_estimators': 50, 'subsample': 0.7}\n",
      "-10.212148 (1.328180) with: {'learning_rate': 0.001, 'max_depth': 9, 'n_estimators': 50, 'subsample': 1.0}\n",
      "-9.814669 (1.296405) with: {'learning_rate': 0.001, 'max_depth': 9, 'n_estimators': 100, 'subsample': 0.5}\n",
      "-9.809973 (1.297132) with: {'learning_rate': 0.001, 'max_depth': 9, 'n_estimators': 100, 'subsample': 0.7}\n",
      "-9.824349 (1.316130) with: {'learning_rate': 0.001, 'max_depth': 9, 'n_estimators': 100, 'subsample': 1.0}\n",
      "-7.422129 (1.115520) with: {'learning_rate': 0.001, 'max_depth': 9, 'n_estimators': 500, 'subsample': 0.5}\n",
      "-7.428880 (1.121676) with: {'learning_rate': 0.001, 'max_depth': 9, 'n_estimators': 500, 'subsample': 0.7}\n",
      "-7.609874 (1.193881) with: {'learning_rate': 0.001, 'max_depth': 9, 'n_estimators': 500, 'subsample': 1.0}\n",
      "-9.874902 (1.293277) with: {'learning_rate': 0.01, 'max_depth': 3, 'n_estimators': 10, 'subsample': 0.5}\n",
      "-9.863329 (1.298192) with: {'learning_rate': 0.01, 'max_depth': 3, 'n_estimators': 10, 'subsample': 0.7}\n",
      "-9.861382 (1.301520) with: {'learning_rate': 0.01, 'max_depth': 3, 'n_estimators': 10, 'subsample': 1.0}\n",
      "-7.608396 (1.150668) with: {'learning_rate': 0.01, 'max_depth': 3, 'n_estimators': 50, 'subsample': 0.5}\n",
      "-7.596287 (1.149003) with: {'learning_rate': 0.01, 'max_depth': 3, 'n_estimators': 50, 'subsample': 0.7}\n",
      "-7.611965 (1.160693) with: {'learning_rate': 0.01, 'max_depth': 3, 'n_estimators': 50, 'subsample': 1.0}\n",
      "-6.069099 (0.970096) with: {'learning_rate': 0.01, 'max_depth': 3, 'n_estimators': 100, 'subsample': 0.5}\n",
      "-6.063930 (0.981082) with: {'learning_rate': 0.01, 'max_depth': 3, 'n_estimators': 100, 'subsample': 0.7}\n",
      "-6.110945 (0.985032) with: {'learning_rate': 0.01, 'max_depth': 3, 'n_estimators': 100, 'subsample': 1.0}\n",
      "-4.770477 (0.612141) with: {'learning_rate': 0.01, 'max_depth': 3, 'n_estimators': 500, 'subsample': 0.5}\n",
      "-4.741791 (0.622009) with: {'learning_rate': 0.01, 'max_depth': 3, 'n_estimators': 500, 'subsample': 0.7}\n",
      "-4.830224 (0.633401) with: {'learning_rate': 0.01, 'max_depth': 3, 'n_estimators': 500, 'subsample': 1.0}\n",
      "-9.816979 (1.296964) with: {'learning_rate': 0.01, 'max_depth': 7, 'n_estimators': 10, 'subsample': 0.5}\n",
      "-9.817371 (1.290291) with: {'learning_rate': 0.01, 'max_depth': 7, 'n_estimators': 10, 'subsample': 0.7}\n",
      "-9.825221 (1.313432) with: {'learning_rate': 0.01, 'max_depth': 7, 'n_estimators': 10, 'subsample': 1.0}\n",
      "-7.436140 (1.120346) with: {'learning_rate': 0.01, 'max_depth': 7, 'n_estimators': 50, 'subsample': 0.5}\n",
      "-7.418491 (1.105639) with: {'learning_rate': 0.01, 'max_depth': 7, 'n_estimators': 50, 'subsample': 0.7}\n",
      "-7.579541 (1.153856) with: {'learning_rate': 0.01, 'max_depth': 7, 'n_estimators': 50, 'subsample': 1.0}\n",
      "-5.849736 (0.929184) with: {'learning_rate': 0.01, 'max_depth': 7, 'n_estimators': 100, 'subsample': 0.5}\n",
      "-5.874969 (0.925347) with: {'learning_rate': 0.01, 'max_depth': 7, 'n_estimators': 100, 'subsample': 0.7}\n",
      "-6.117115 (0.967584) with: {'learning_rate': 0.01, 'max_depth': 7, 'n_estimators': 100, 'subsample': 1.0}\n",
      "-4.789249 (0.602538) with: {'learning_rate': 0.01, 'max_depth': 7, 'n_estimators': 500, 'subsample': 0.5}\n",
      "-4.867668 (0.581633) with: {'learning_rate': 0.01, 'max_depth': 7, 'n_estimators': 500, 'subsample': 0.7}\n",
      "-5.295611 (0.682559) with: {'learning_rate': 0.01, 'max_depth': 7, 'n_estimators': 500, 'subsample': 1.0}\n",
      "-9.819004 (1.303521) with: {'learning_rate': 0.01, 'max_depth': 9, 'n_estimators': 10, 'subsample': 0.5}\n",
      "-9.811122 (1.298044) with: {'learning_rate': 0.01, 'max_depth': 9, 'n_estimators': 10, 'subsample': 0.7}\n",
      "-9.820450 (1.315210) with: {'learning_rate': 0.01, 'max_depth': 9, 'n_estimators': 10, 'subsample': 1.0}\n",
      "-7.431556 (1.101245) with: {'learning_rate': 0.01, 'max_depth': 9, 'n_estimators': 50, 'subsample': 0.5}\n",
      "-7.429799 (1.124081) with: {'learning_rate': 0.01, 'max_depth': 9, 'n_estimators': 50, 'subsample': 0.7}\n",
      "-7.599387 (1.192731) with: {'learning_rate': 0.01, 'max_depth': 9, 'n_estimators': 50, 'subsample': 1.0}\n",
      "-5.863143 (0.906470) with: {'learning_rate': 0.01, 'max_depth': 9, 'n_estimators': 100, 'subsample': 0.5}\n",
      "-5.881263 (0.899321) with: {'learning_rate': 0.01, 'max_depth': 9, 'n_estimators': 100, 'subsample': 0.7}\n",
      "-6.245482 (1.049281) with: {'learning_rate': 0.01, 'max_depth': 9, 'n_estimators': 100, 'subsample': 1.0}\n",
      "-4.815550 (0.584462) with: {'learning_rate': 0.01, 'max_depth': 9, 'n_estimators': 500, 'subsample': 0.5}\n",
      "-4.972815 (0.584700) with: {'learning_rate': 0.01, 'max_depth': 9, 'n_estimators': 500, 'subsample': 0.7}\n",
      "-5.693077 (0.765145) with: {'learning_rate': 0.01, 'max_depth': 9, 'n_estimators': 500, 'subsample': 1.0}\n",
      "-6.013541 (0.925423) with: {'learning_rate': 0.1, 'max_depth': 3, 'n_estimators': 10, 'subsample': 0.5}\n",
      "-5.991539 (0.985235) with: {'learning_rate': 0.1, 'max_depth': 3, 'n_estimators': 10, 'subsample': 0.7}\n",
      "-6.020494 (0.963494) with: {'learning_rate': 0.1, 'max_depth': 3, 'n_estimators': 10, 'subsample': 1.0}\n",
      "-4.847661 (0.678865) with: {'learning_rate': 0.1, 'max_depth': 3, 'n_estimators': 50, 'subsample': 0.5}\n",
      "-4.802016 (0.628346) with: {'learning_rate': 0.1, 'max_depth': 3, 'n_estimators': 50, 'subsample': 0.7}\n",
      "-4.834160 (0.604292) with: {'learning_rate': 0.1, 'max_depth': 3, 'n_estimators': 50, 'subsample': 1.0}\n",
      "-4.870211 (0.619605) with: {'learning_rate': 0.1, 'max_depth': 3, 'n_estimators': 100, 'subsample': 0.5}\n",
      "-4.814342 (0.573773) with: {'learning_rate': 0.1, 'max_depth': 3, 'n_estimators': 100, 'subsample': 0.7}\n",
      "-4.818801 (0.616546) with: {'learning_rate': 0.1, 'max_depth': 3, 'n_estimators': 100, 'subsample': 1.0}\n",
      "-4.987694 (0.739754) with: {'learning_rate': 0.1, 'max_depth': 3, 'n_estimators': 500, 'subsample': 0.5}\n",
      "-5.082375 (0.689354) with: {'learning_rate': 0.1, 'max_depth': 3, 'n_estimators': 500, 'subsample': 0.7}\n",
      "-5.117641 (0.675992) with: {'learning_rate': 0.1, 'max_depth': 3, 'n_estimators': 500, 'subsample': 1.0}\n",
      "-5.828902 (0.914546) with: {'learning_rate': 0.1, 'max_depth': 7, 'n_estimators': 10, 'subsample': 0.5}\n",
      "-5.906978 (0.893764) with: {'learning_rate': 0.1, 'max_depth': 7, 'n_estimators': 10, 'subsample': 0.7}\n",
      "-6.045907 (0.963388) with: {'learning_rate': 0.1, 'max_depth': 7, 'n_estimators': 10, 'subsample': 1.0}\n",
      "-4.908741 (0.629900) with: {'learning_rate': 0.1, 'max_depth': 7, 'n_estimators': 50, 'subsample': 0.5}\n",
      "-4.966611 (0.593496) with: {'learning_rate': 0.1, 'max_depth': 7, 'n_estimators': 50, 'subsample': 0.7}\n",
      "-5.334303 (0.665875) with: {'learning_rate': 0.1, 'max_depth': 7, 'n_estimators': 50, 'subsample': 1.0}\n",
      "-5.002943 (0.557925) with: {'learning_rate': 0.1, 'max_depth': 7, 'n_estimators': 100, 'subsample': 0.5}\n",
      "-5.060579 (0.604384) with: {'learning_rate': 0.1, 'max_depth': 7, 'n_estimators': 100, 'subsample': 0.7}\n",
      "-5.359300 (0.691545) with: {'learning_rate': 0.1, 'max_depth': 7, 'n_estimators': 100, 'subsample': 1.0}\n",
      "-5.124210 (0.644341) with: {'learning_rate': 0.1, 'max_depth': 7, 'n_estimators': 500, 'subsample': 0.5}\n",
      "-5.129077 (0.661206) with: {'learning_rate': 0.1, 'max_depth': 7, 'n_estimators': 500, 'subsample': 0.7}\n",
      "-5.391513 (0.674015) with: {'learning_rate': 0.1, 'max_depth': 7, 'n_estimators': 500, 'subsample': 1.0}\n",
      "-5.877353 (0.892300) with: {'learning_rate': 0.1, 'max_depth': 9, 'n_estimators': 10, 'subsample': 0.5}\n",
      "-5.905180 (0.856204) with: {'learning_rate': 0.1, 'max_depth': 9, 'n_estimators': 10, 'subsample': 0.7}\n",
      "-6.153018 (1.023324) with: {'learning_rate': 0.1, 'max_depth': 9, 'n_estimators': 10, 'subsample': 1.0}\n",
      "-5.016414 (0.604258) with: {'learning_rate': 0.1, 'max_depth': 9, 'n_estimators': 50, 'subsample': 0.5}\n",
      "-5.153619 (0.618405) with: {'learning_rate': 0.1, 'max_depth': 9, 'n_estimators': 50, 'subsample': 0.7}\n",
      "-5.669845 (0.763840) with: {'learning_rate': 0.1, 'max_depth': 9, 'n_estimators': 50, 'subsample': 1.0}\n",
      "-5.097053 (0.591850) with: {'learning_rate': 0.1, 'max_depth': 9, 'n_estimators': 100, 'subsample': 0.5}\n",
      "-5.084459 (0.627736) with: {'learning_rate': 0.1, 'max_depth': 9, 'n_estimators': 100, 'subsample': 0.7}\n",
      "-5.666684 (0.774555) with: {'learning_rate': 0.1, 'max_depth': 9, 'n_estimators': 100, 'subsample': 1.0}\n",
      "-5.024102 (0.645715) with: {'learning_rate': 0.1, 'max_depth': 9, 'n_estimators': 500, 'subsample': 0.5}\n",
      "-5.153830 (0.567567) with: {'learning_rate': 0.1, 'max_depth': 9, 'n_estimators': 500, 'subsample': 0.7}\n",
      "-5.685745 (0.767998) with: {'learning_rate': 0.1, 'max_depth': 9, 'n_estimators': 500, 'subsample': 1.0}\n",
      "-6.768724 (0.983775) with: {'learning_rate': 1.0, 'max_depth': 3, 'n_estimators': 10, 'subsample': 0.5}\n",
      "-6.454335 (1.127893) with: {'learning_rate': 1.0, 'max_depth': 3, 'n_estimators': 10, 'subsample': 0.7}\n",
      "-5.951538 (0.845081) with: {'learning_rate': 1.0, 'max_depth': 3, 'n_estimators': 10, 'subsample': 1.0}\n",
      "-9.189116 (1.230950) with: {'learning_rate': 1.0, 'max_depth': 3, 'n_estimators': 50, 'subsample': 0.5}\n",
      "-7.215739 (0.990661) with: {'learning_rate': 1.0, 'max_depth': 3, 'n_estimators': 50, 'subsample': 0.7}\n",
      "-6.656944 (0.873455) with: {'learning_rate': 1.0, 'max_depth': 3, 'n_estimators': 50, 'subsample': 1.0}\n",
      "-9.945033 (2.142082) with: {'learning_rate': 1.0, 'max_depth': 3, 'n_estimators': 100, 'subsample': 0.5}\n",
      "-7.717463 (1.125585) with: {'learning_rate': 1.0, 'max_depth': 3, 'n_estimators': 100, 'subsample': 0.7}\n",
      "-6.653287 (0.931300) with: {'learning_rate': 1.0, 'max_depth': 3, 'n_estimators': 100, 'subsample': 1.0}\n",
      "-10.720119 (2.551297) with: {'learning_rate': 1.0, 'max_depth': 3, 'n_estimators': 500, 'subsample': 0.5}\n",
      "-7.364648 (1.224756) with: {'learning_rate': 1.0, 'max_depth': 3, 'n_estimators': 500, 'subsample': 0.7}\n",
      "-6.664432 (0.893303) with: {'learning_rate': 1.0, 'max_depth': 3, 'n_estimators': 500, 'subsample': 1.0}\n",
      "-10.280466 (1.787520) with: {'learning_rate': 1.0, 'max_depth': 7, 'n_estimators': 10, 'subsample': 0.5}\n",
      "-7.893324 (1.042550) with: {'learning_rate': 1.0, 'max_depth': 7, 'n_estimators': 10, 'subsample': 0.7}\n",
      "-6.408106 (1.015163) with: {'learning_rate': 1.0, 'max_depth': 7, 'n_estimators': 10, 'subsample': 1.0}\n",
      "-13.299481 (2.823499) with: {'learning_rate': 1.0, 'max_depth': 7, 'n_estimators': 50, 'subsample': 0.5}\n",
      "-7.864507 (0.801294) with: {'learning_rate': 1.0, 'max_depth': 7, 'n_estimators': 50, 'subsample': 0.7}\n",
      "-6.288223 (0.977183) with: {'learning_rate': 1.0, 'max_depth': 7, 'n_estimators': 50, 'subsample': 1.0}\n",
      "-12.592689 (2.394080) with: {'learning_rate': 1.0, 'max_depth': 7, 'n_estimators': 100, 'subsample': 0.5}\n",
      "-7.694508 (1.189805) with: {'learning_rate': 1.0, 'max_depth': 7, 'n_estimators': 100, 'subsample': 0.7}\n",
      "-6.306233 (0.999637) with: {'learning_rate': 1.0, 'max_depth': 7, 'n_estimators': 100, 'subsample': 1.0}\n",
      "-11.942728 (2.742401) with: {'learning_rate': 1.0, 'max_depth': 7, 'n_estimators': 500, 'subsample': 0.5}\n",
      "-7.874909 (1.098871) with: {'learning_rate': 1.0, 'max_depth': 7, 'n_estimators': 500, 'subsample': 0.7}\n",
      "-6.283031 (0.982965) with: {'learning_rate': 1.0, 'max_depth': 7, 'n_estimators': 500, 'subsample': 1.0}\n",
      "-10.572033 (2.393047) with: {'learning_rate': 1.0, 'max_depth': 9, 'n_estimators': 10, 'subsample': 0.5}\n",
      "-7.969720 (1.152515) with: {'learning_rate': 1.0, 'max_depth': 9, 'n_estimators': 10, 'subsample': 0.7}\n",
      "-6.360314 (0.984737) with: {'learning_rate': 1.0, 'max_depth': 9, 'n_estimators': 10, 'subsample': 1.0}\n",
      "-12.800274 (2.295687) with: {'learning_rate': 1.0, 'max_depth': 9, 'n_estimators': 50, 'subsample': 0.5}\n",
      "-8.093019 (1.050976) with: {'learning_rate': 1.0, 'max_depth': 9, 'n_estimators': 50, 'subsample': 0.7}\n",
      "-6.386606 (0.949799) with: {'learning_rate': 1.0, 'max_depth': 9, 'n_estimators': 50, 'subsample': 1.0}\n",
      "-12.893133 (2.615479) with: {'learning_rate': 1.0, 'max_depth': 9, 'n_estimators': 100, 'subsample': 0.5}\n",
      "-7.918414 (1.082582) with: {'learning_rate': 1.0, 'max_depth': 9, 'n_estimators': 100, 'subsample': 0.7}\n",
      "-6.360748 (0.948598) with: {'learning_rate': 1.0, 'max_depth': 9, 'n_estimators': 100, 'subsample': 1.0}\n",
      "-12.553229 (2.592091) with: {'learning_rate': 1.0, 'max_depth': 9, 'n_estimators': 500, 'subsample': 0.5}\n",
      "-8.001043 (1.070686) with: {'learning_rate': 1.0, 'max_depth': 9, 'n_estimators': 500, 'subsample': 0.7}\n",
      "-6.410820 (0.970148) with: {'learning_rate': 1.0, 'max_depth': 9, 'n_estimators': 500, 'subsample': 1.0}\n"
     ]
    }
   ],
   "source": [
    "# grid searching key hyperparameters for gradient boosting \n",
    "\n",
    "from sklearn.model_selection import GridSearchCV\n",
    "# define the model with default hyperparameters\n",
    "model = GradientBoostingRegressor()\n",
    "# define the grid of values to search\n",
    "grid = dict()\n",
    "grid['n_estimators'] = [10, 50, 100, 500]\n",
    "grid['learning_rate'] = [0.0001, 0.001, 0.01, 0.1, 1.0]\n",
    "grid['subsample'] = [0.5, 0.7, 1.0]\n",
    "grid['max_depth'] = [3, 7, 9]\n",
    "# define the evaluation procedure\n",
    "cv = RepeatedKFold(n_splits=10, n_repeats=3, random_state=1)\n",
    "# define the grid search procedure\n",
    "grid_search = GridSearchCV(estimator=model, param_grid=grid, n_jobs=-1, cv=cv, scoring='neg_mean_absolute_error')\n",
    "# execute the grid search\n",
    "grid_result = grid_search.fit(X, y)\n",
    "# summarize the best score and configuration\n",
    "print(\"Best: %f using %s\" % (grid_result.best_score_, grid_result.best_params_))\n",
    "# summarize all scores that were evaluated\n",
    "means = grid_result.cv_results_['mean_test_score']\n",
    "stds = grid_result.cv_results_['std_test_score']\n",
    "params = grid_result.cv_results_['params']\n",
    "for mean, stdev, param in zip(means, stds, params):\n",
    "    print(\"%f (%f) with: %r\" % (mean, stdev, param))"
   ]
  },
  {
   "cell_type": "markdown",
   "id": "258666f2",
   "metadata": {},
   "source": [
    "# Final GradientBoostRegressor model for House Price Prediction"
   ]
  },
  {
   "cell_type": "code",
   "execution_count": 66,
   "id": "3836f13c",
   "metadata": {},
   "outputs": [
    {
     "data": {
      "text/plain": [
       "4.433559718787187"
      ]
     },
     "execution_count": 66,
     "metadata": {},
     "output_type": "execute_result"
    }
   ],
   "source": [
    "from sklearn.model_selection import train_test_split\n",
    "from sklearn.metrics import mean_absolute_error\n",
    "data=df.values\n",
    "X,y=data[:,:-1],data[:,-1]\n",
    "X_train,X_test,y_train,y_test=train_test_split(X,y,test_size=0.2,random_state=0)\n",
    "model=GradientBoostingRegressor(learning_rate=0.01,max_depth=3,n_estimators=500,subsample=0.7)\n",
    "model.fit(X_train,y_train)\n",
    "yhat=model.predict(X_test)\n",
    "MAE=mean_absolute_error(y_test,yhat)\n",
    "MAE"
   ]
  },
  {
   "cell_type": "code",
   "execution_count": null,
   "id": "15680253",
   "metadata": {},
   "outputs": [],
   "source": []
  },
  {
   "cell_type": "code",
   "execution_count": null,
   "id": "45d7e4a5",
   "metadata": {},
   "outputs": [],
   "source": []
  }
 ],
 "metadata": {
  "kernelspec": {
   "display_name": "Python 3 (ipykernel)",
   "language": "python",
   "name": "python3"
  },
  "language_info": {
   "codemirror_mode": {
    "name": "ipython",
    "version": 3
   },
   "file_extension": ".py",
   "mimetype": "text/x-python",
   "name": "python",
   "nbconvert_exporter": "python",
   "pygments_lexer": "ipython3",
   "version": "3.9.7"
  }
 },
 "nbformat": 4,
 "nbformat_minor": 5
}
